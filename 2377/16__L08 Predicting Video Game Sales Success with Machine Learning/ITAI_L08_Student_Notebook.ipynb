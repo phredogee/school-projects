{
  "cells": [
    {
      "cell_type": "markdown",
      "metadata": {
        "id": "VaW4_f5tju3_"
      },
      "source": [
        "# Video Game Sales Prediction - Machine Learning Lab"
      ]
    },
    {
      "cell_type": "markdown",
      "metadata": {
        "id": "Nkuk8gXtj6hM"
      },
      "source": [
        "## Introduction and Setup\n",
        "Welcome to this machine learning lab where we'll build a model to predict\n",
        "whether a video game will be a \"hit\" based on its characteristics and sales data.\n",
        "This notebook will guide you through the entire process, from data loading to\n",
        "model evaluation and optimization.\n",
        "\n",
        "Learning objectives:\n",
        "1. Learn to preprocess and explore a real-world dataset\n",
        "2. Build and evaluate a decision tree classifier\n",
        "3. Optimize a model through hyperparameter tuning\n",
        "4. Interpret model results and feature importance"
      ]
    },
    {
      "cell_type": "code",
      "execution_count": null,
      "metadata": {
        "id": "35dwCQSyjqVe"
      },
      "outputs": [],
      "source": [
        "#install libraries if necessary\n",
        "\n",
        "# Import the necessary libraries\n",
        "import numpy as np\n",
        "import pandas as pd\n",
        "import matplotlib.pyplot as plt\n",
        "import seaborn as sns\n",
        "\n",
        "# Machine learning libraries\n",
        "from sklearn.model_selection import train_test_split, GridSearchCV, cross_val_score\n",
        "from sklearn.tree import DecisionTreeClassifier\n",
        "from sklearn.preprocessing import LabelEncoder\n",
        "from sklearn.metrics import accuracy_score, precision_score, recall_score, f1_score, roc_auc_score\n",
        "from sklearn.metrics import confusion_matrix, ConfusionMatrixDisplay, RocCurveDisplay\n"
      ]
    },
    {
      "cell_type": "code",
      "execution_count": null,
      "metadata": {
        "id": "rCwAxxEkKJ-_"
      },
      "outputs": [],
      "source": [
        "# Set random seed for reproducibility\n",
        "np.random.seed(42)"
      ]
    },
    {
      "cell_type": "code",
      "execution_count": null,
      "metadata": {
        "id": "2iCAKfQYknL2"
      },
      "outputs": [],
      "source": [
        "# Configure visualizations\n",
        "plt.style.use('seaborn-v0_8-whitegrid')\n",
        "sns.set_palette(\"colorblind\")"
      ]
    },
    {
      "cell_type": "code",
      "execution_count": null,
      "metadata": {
        "id": "uU-KuJYDksM2"
      },
      "outputs": [],
      "source": [
        "# Display settings for better output\n",
        "pd.set_option('display.max_columns', None)\n",
        "pd.set_option('display.width', 1000)"
      ]
    },
    {
      "cell_type": "markdown",
      "metadata": {
        "id": "BGewQbm5k2UQ"
      },
      "source": [
        "## Download the Dataset"
      ]
    },
    {
      "cell_type": "code",
      "execution_count": null,
      "metadata": {
        "id": "9SVnx0G8k-Yh"
      },
      "outputs": [],
      "source": [
        "# You can run this cell to download the dataset directly, or upload it manually!\n",
        "import requests\n",
        "\n",
        "url = 'https://www.kaggle.com/datasets/gregorut/videogamesales/download'\n",
        "response = requests.get(url)\n",
        "\n",
        "with open('videogamesales.zip', 'wb') as f:\n",
        "\tf.write(response.content)\n",
        "\n",
        "print(\"Dataset downloaded successfully.\")\n"
      ]
    },
    {
      "cell_type": "markdown",
      "metadata": {
        "id": "AGBWPzaVkmX5"
      },
      "source": [
        "## Load the Dataset"
      ]
    },
    {
      "cell_type": "code",
      "execution_count": null,
      "metadata": {
        "id": "TW0libgelLYn"
      },
      "outputs": [],
      "source": [
        "# Load the dataset\n",
        "df = pd.read_csv('vgsales.csv')\n",
        "\n",
        "# Let's take a look at the first few rows of the dataset\n",
        "print(\"First 5 rows of the dataset:\")\n",
        "print(df.head())\n"
      ]
    },
    {
      "cell_type": "markdown",
      "metadata": {
        "id": "0UEOpIo9lT3R"
      },
      "source": [
        "## Dataset Information"
      ]
    },
    {
      "cell_type": "code",
      "execution_count": null,
      "metadata": {
        "id": "FF4cRl_JldE7"
      },
      "outputs": [],
      "source": [
        "# Get basic information about the dataset\n",
        "print(\"\\nDataset basic information:\")\n",
        "print(df.info())\n",
        "\n",
        "# Get descriptive statistics\n",
        "print(\"\\nDescriptive statistics:\")\n",
        "print(df.describe())"
      ]
    },
    {
      "cell_type": "code",
      "execution_count": null,
      "metadata": {
        "id": "ta7YL5Uwljpo"
      },
      "outputs": [],
      "source": [
        "# Cell 5:Check for missing values\n",
        "print(\"\\nMissing values per column:\")\n",
        "print(df.isnull().sum())"
      ]
    },
    {
      "cell_type": "code",
      "execution_count": null,
      "metadata": {
        "id": "c594YeN9lqt7"
      },
      "outputs": [],
      "source": [
        "# Cell 6: Data Visualization - Global Sales Distribution\n",
        "# ====================================================\n",
        "# Visualize the distribution of global sales\n",
        "plt.figure(figsize=(10, 6))\n",
        "sns.histplot(df['Global_Sales'], bins=50, kde=True)\n",
        "plt.title('Distribution of Global Sales')\n",
        "plt.xlabel('Global Sales (millions of units)')\n",
        "plt.ylabel('Frequency')\n",
        "plt.axvline(x=1, color='red', linestyle='--', label='Hit Threshold (1M units)')\n",
        "plt.legend()\n",
        "plt.show()"
      ]
    },
    {
      "cell_type": "code",
      "execution_count": null,
      "metadata": {
        "id": "mH0gHMmwl_nx"
      },
      "outputs": [],
      "source": [
        "# Cell 7: Create Target Variable\n",
        "# ============================\n",
        "# TASK: Create a binary target variable for \"hit\" games\n",
        "# A game is considered a hit if it sold more than 1 million units (Global_Sales > 1)\n",
        "# YOUR CODE HERE\n"
      ]
    },
    {
      "cell_type": "code",
      "execution_count": null,
      "metadata": {
        "id": "Zx3tKD5umEID"
      },
      "outputs": [],
      "source": [
        "# Cell 8: Analyze Target Distribution\n",
        "# =================================\n",
        "# Let's see the proportion of hits in our dataset\n",
        "# YOUR CODE HERE\n"
      ]
    },
    {
      "cell_type": "code",
      "execution_count": null,
      "metadata": {
        "id": "u15j6BCTmNBo"
      },
      "outputs": [],
      "source": [
        "# Cell 9: Drop Non-Informative Columns\n",
        "# ==================================\n",
        "# TASK: Drop non-informative columns\n",
        "# Think about which columns won't help with prediction\n",
        "# YOUR CODE HERE\n"
      ]
    },
    {
      "cell_type": "code",
      "execution_count": null,
      "metadata": {
        "id": "bko2jGtJmM1I"
      },
      "outputs": [],
      "source": [
        "# Cell 10: Missing Value Analysis\n",
        "# =============================\n",
        "# Examine the 'Year' column which might have missing values\n"
      ]
    },
    {
      "cell_type": "code",
      "execution_count": null,
      "metadata": {
        "id": "17nIvC02mMsC"
      },
      "outputs": [],
      "source": [
        "# Cell 11: Handle Missing Values\n",
        "# ============================\n",
        "# TASK: Handle missing values\n",
        "# Option 1: Drop rows with missing values\n",
        "# YOUR CODE HERE\n",
        "\n",
        "# Option 2: Fill missing values with median or mean\n",
        "# YOUR CODE HERE\n",
        "# df_clean['Year'] = df_clean['Year'].fillna(df_clean['Year'].median())\n"
      ]
    },
    {
      "cell_type": "code",
      "execution_count": null,
      "metadata": {
        "id": "wdz4eCpFmihF"
      },
      "outputs": [],
      "source": [
        "# Cell 12: Categorical Variable Analysis\n",
        "# ===================================\n",
        "# Let's identify categorical columns\n",
        "categorical_columns = df_clean.select_dtypes(include=['object']).columns.tolist()\n",
        "print(\"\\nCategorical columns:\", categorical_columns)"
      ]
    },
    {
      "cell_type": "code",
      "execution_count": null,
      "metadata": {
        "id": "K-O14F8ImiPC"
      },
      "outputs": [],
      "source": [
        "# Cell 13: Encode Categorical Variables\n",
        "# ==================================\n",
        "# TASK: Encode categorical variables using LabelEncoder\n",
        "# Label Encoder transforms categorical variables into numerical ones\n",
        "# YOUR CODE HERE\n"
      ]
    },
    {
      "cell_type": "code",
      "execution_count": null,
      "metadata": {
        "id": "svpyywiXmiK2"
      },
      "outputs": [],
      "source": [
        "# Cell 14: Feature Engineering (Optional)\n",
        "# =====================================\n",
        "# BONUS TASK: Feature Engineering\n",
        "# Creating new features might improve model performance\n",
        "# Example: Total regional sales besides global\n",
        "# YOUR CODE HERE\n"
      ]
    },
    {
      "cell_type": "code",
      "execution_count": null,
      "metadata": {
        "id": "VC3SiPvqmiDq"
      },
      "outputs": [],
      "source": [
        "# Cell 15: Explore Processed Dataset\n",
        "# ================================\n",
        "# Let's look at the processed dataset\n",
        "# YOUR CODE HERE\n"
      ]
    },
    {
      "cell_type": "code",
      "execution_count": null,
      "metadata": {
        "id": "Gy_R0iA7mh_J"
      },
      "outputs": [],
      "source": [
        "# Cell 16: Split Features and Target\n",
        "# ================================\n",
        "# TASK: Split the data into features (X) and target (y)\n",
        "# YOUR CODE HERE\n"
      ]
    },
    {
      "cell_type": "code",
      "execution_count": null,
      "metadata": {
        "id": "liL8L0fhnCom"
      },
      "outputs": [],
      "source": [
        "# Cell 17: Train-Test Split\n",
        "# =======================\n",
        "# TASK: Split the data into training and testing sets (80/20 split)\n",
        "\n",
        "# X_train, X_test, y_train, y_test = train_test_split(X, y, test_size=0.2, random_state=42)\n",
        "# Print the shapes to confirm the split\n"
      ]
    },
    {
      "cell_type": "code",
      "execution_count": null,
      "metadata": {
        "id": "gEdxTB8gnCjE"
      },
      "outputs": [],
      "source": [
        "# Cell 18: Train Initial Model\n",
        "# ==========================\n",
        "# TASK: Train a Decision Tree classifier with default parameters\n",
        "# YOUR CODE HERE\n"
      ]
    },
    {
      "cell_type": "code",
      "execution_count": null,
      "metadata": {
        "id": "mh2k-JrqnFtD"
      },
      "outputs": [],
      "source": [
        "# Cell 19: Make Predictions\n",
        "# =======================\n",
        "# TASK: Make predictions on the test set\n",
        "# YOUR CODE HERE\n",
        "                            # Probability of being a hit"
      ]
    },
    {
      "cell_type": "code",
      "execution_count": null,
      "metadata": {
        "id": "t3Go9rzMmh2c"
      },
      "outputs": [],
      "source": [
        "# Cell 20: Calculate Evaluation Metrics\n",
        "# ==================================\n",
        "# TASK: Calculate evaluation metrics\n",
        "# YOUR CODE HERE\n",
        "\n",
        "\n"
      ]
    },
    {
      "cell_type": "code",
      "execution_count": null,
      "metadata": {
        "id": "Kv_WK4QDnj20"
      },
      "outputs": [],
      "source": [
        "# Cell 21: Confusion Matrix Visualization\n",
        "# ====================================\n",
        "# TASK: Visualize the confusion matrix\n",
        "# YOUR CODE HERE\n"
      ]
    }
  ],
  "metadata": {
    "colab": {
      "provenance": []
    },
    "kernelspec": {
      "display_name": "Python 3",
      "name": "python3"
    },
    "language_info": {
      "codemirror_mode": {
        "name": "ipython",
        "version": 3
      },
      "file_extension": ".py",
      "mimetype": "text/x-python",
      "name": "python",
      "nbconvert_exporter": "python",
      "pygments_lexer": "ipython3",
      "version": "3.8.10"
    }
  },
  "nbformat": 4,
  "nbformat_minor": 0
}
